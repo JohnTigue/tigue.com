{
  "nbformat": 4,
  "nbformat_minor": 0,
  "metadata": {
    "colab": {
      "name": "website_linter.ipynb",
      "provenance": [],
      "collapsed_sections": [],
      "toc_visible": true
    },
    "kernelspec": {
      "name": "python3",
      "display_name": "Python 3"
    }
  },
  "cells": [
    {
      "cell_type": "markdown",
      "metadata": {
        "id": "DBbY50chlfjc",
        "colab_type": "text"
      },
      "source": [
        "<h1>Website Linter<h1>\n",
        "\n",
        "This notebook is a collection of experiments with various Python website linters, such as link checkers."
      ]
    },
    {
      "cell_type": "markdown",
      "metadata": {
        "id": "iDet8tsHVbdU",
        "colab_type": "text"
      },
      "source": [
        "# Pylinkvalidator"
      ]
    },
    {
      "cell_type": "code",
      "metadata": {
        "id": "uXdXRNgoQVhn",
        "colab_type": "code",
        "colab": {
          "base_uri": "https://localhost:8080/",
          "height": 222
        },
        "outputId": "9ee87e81-e5aa-4ec7-9cd2-f8a3abfef96e"
      },
      "source": [
        "!pip install pylinkvalidator"
      ],
      "execution_count": 1,
      "outputs": [
        {
          "output_type": "stream",
          "text": [
            "Collecting pylinkvalidator\n",
            "\u001b[?25l  Downloading https://files.pythonhosted.org/packages/b0/63/6cd2117907b4fad4925115d03aa9fdd410f0a62a18e3012a3e8927864f72/pylinkvalidator-0.3.tar.gz (57kB)\n",
            "\u001b[K     |████████████████████████████████| 61kB 1.9MB/s \n",
            "\u001b[?25hRequirement already satisfied: beautifulsoup4>=4.2.0 in /usr/local/lib/python3.6/dist-packages (from pylinkvalidator) (4.6.3)\n",
            "Building wheels for collected packages: pylinkvalidator\n",
            "  Building wheel for pylinkvalidator (setup.py) ... \u001b[?25l\u001b[?25hdone\n",
            "  Created wheel for pylinkvalidator: filename=pylinkvalidator-0.3-cp36-none-any.whl size=62168 sha256=de6a0e6985e74e6d15f6988bf00378f15484fc0f1f4cadb7877d62a2b538fbc6\n",
            "  Stored in directory: /root/.cache/pip/wheels/75/bb/b3/0a4916574cd5d6faf720db190fc579c67b1117437649b3b752\n",
            "Successfully built pylinkvalidator\n",
            "Installing collected packages: pylinkvalidator\n",
            "Successfully installed pylinkvalidator-0.3\n"
          ],
          "name": "stdout"
        }
      ]
    },
    {
      "cell_type": "code",
      "metadata": {
        "id": "-9PntrHNVgWu",
        "colab_type": "code",
        "colab": {
          "base_uri": "https://localhost:8080/",
          "height": 101
        },
        "outputId": "ddfa33fa-3650-4a66-ffc5-843e7145adef"
      },
      "source": [
        "# Test it on a one page site (example.com):\n",
        "%run /usr/local/bin/pylinkvalidate -P http://www.example.com/"
      ],
      "execution_count": 34,
      "outputs": [
        {
          "output_type": "stream",
          "text": [
            "Starting crawl...\n",
            "200 - http://www.example.com/ (1 of 1 - 100%)\n",
            "Crawling Done...\n",
            "\n",
            "SUCCESS Crawled 1 urls in 0.03 seconds\n"
          ],
          "name": "stdout"
        }
      ]
    },
    {
      "cell_type": "markdown",
      "metadata": {
        "id": "5GpGNP2Hkgxk",
        "colab_type": "text"
      },
      "source": [
        "## Run script from command line"
      ]
    },
    {
      "cell_type": "code",
      "metadata": {
        "id": "VsXEhWj5gZb3",
        "colab_type": "code",
        "colab": {
          "base_uri": "https://localhost:8080/",
          "height": 1000
        },
        "outputId": "bb388948-6be0-4ff4-8cc0-0d6628866876"
      },
      "source": [
        "%%time\n",
        "%run /usr/local/bin/pylinkvalidate.py -P http://tigue.com"
      ],
      "execution_count": 30,
      "outputs": [
        {
          "output_type": "stream",
          "text": [
            "Starting crawl...\n",
            "200 - http://tigue.com (1 of 97 - 1%)\n",
            "200 - http://tigue.com/ (2 of 97 - 2%)\n",
            "200 - http://tigue.com/rss.xml (3 of 97 - 3%)\n",
            "200 - http://tigue.com/whiteboarder_a_two_bit_photo_processor/ (4 of 99 - 4%)\n",
            "200 - http://tigue.com/eight_bit_gauges/ (5 of 100 - 5%)\n",
            "200 - http://tigue.com/jupyter_book_notes/ (6 of 101 - 6%)\n",
            "200 - http://tigue.com/static/74d039ad4fe7d25fcdf76c90f10c7278/70d1f/four_reps_of_ipynb.png (7 of 101 - 7%)\n",
            "200 - http://tigue.com/jupyter_book_to_colab/ (8 of 102 - 8%)\n",
            "200 - http://tigue.com/monocle3_on_colab/ (9 of 103 - 9%)\n",
            "200 - http://tigue.com/static/d6a84a5aeb8836fc30602127f3e10b52/f5429/monocle_cover_image.png (10 of 103 - 10%)\n",
            "200 - http://tigue.com/allensdk_for_training_skeletonizers/ (11 of 104 - 11%)\n",
            "200 - http://tigue.com/colormapping/ (12 of 105 - 11%)\n",
            "200 - http://tigue.com/static/d61d46c29725f1c0d1a8bb6dfbaf9ca1/11d19/jupyter_book_to_colab.png (13 of 105 - 12%)\n",
            "200 - http://tigue.com/brightfield_challenge_data_manifest/ (14 of 106 - 13%)\n",
            "200 - http://tigue.com/static/b2acaceeb8dfaddf290a1c8449c28ffa/b4d9b/index_15_0.png (15 of 106 - 14%)\n",
            "200 - http://tigue.com/static/d110bc725bc2a706d9ab7ac80e68eeb1/b4d9b/index_20_0.png (16 of 106 - 15%)\n",
            "200 - http://tigue.com/brightfield_reconstruction_challenge/ (17 of 107 - 16%)\n",
            "200 - http://tigue.com/allensdk_on_colab/ (18 of 108 - 17%)\n",
            "200 - http://tigue.com/static/4dbf1f3dcc5646afe522234ecc90f119/11d19/allensdk_on_colab.png (19 of 108 - 18%)\n",
            "200 - http://tigue.com/tsne_better_faster_cheaper/ (20 of 109 - 18%)\n",
            "200 - http://tigue.com/stefano_buliani_serverless_cheat_sheet/ (21 of 110 - 19%)\n",
            "200 - http://tigue.com/omolumeter_live/ (22 of 111 - 20%)\n",
            "200 - http://tigue.com/omolumeter_defined/ (23 of 112 - 21%)\n",
            "200 - http://tigue.com/projects/omolumeter/src/apps/omolumeter/ (24 of 112 - 21%)\n",
            "200 - http://tigue.com/by-time/2014/12/28/ebola-open-data-analysis-completed/ (25 of 127 - 20%)\n",
            "200 - http://tigue.com/seattle_speed_testing/ (26 of 128 - 20%)\n",
            "200 - http://tigue.com/seattlespeeds/ (27 of 135 - 20%)\n",
            "200 - http://tigue.com/generating_topojson/ (28 of 136 - 21%)\n",
            "200 - http://tigue.com/by-time/2015/12/09/seattle-boundaries/ (29 of 139 - 21%)\n",
            "200 - http://tigue.com/seattle_boundaries/ (30 of 140 - 21%)\n",
            "200 - http://tigue.com/ebola_data_analysis_completed/ (31 of 141 - 22%)\n",
            "200 - http://tigue.com/ebola_progress_metrics/ (32 of 143 - 22%)\n",
            "404 - http://tigue.com/thub.com/JohnTigue/EbolaMapper (33 of 143 - 23%)\n",
            "200 - http://tigue.com/static/e10e66a21fb63b91abbede8d6f09b215/b8ccf/who-ebola-data.png (34 of 143 - 24%)\n",
            "200 - http://tigue.com/static/1a31afdfc408cf540d7a2760cb696524/b8ccf/physical-signifiers.png (35 of 143 - 24%)\n",
            "200 - http://tigue.com/la_grippe/ (36 of 144 - 25%)\n",
            "200 - http://tigue.com/report_to_africa_open_data/ (37 of 145 - 26%)\n",
            "200 - http://tigue.com/nat_geo_ebola_tracking/ (38 of 146 - 26%)\n",
            "200 - http://tigue.com/hdxs_ebola_dashboard/ (39 of 147 - 27%)\n",
            "200 - http://tigue.com/by-time/2014/11/13/nytimes-the-pace-car/ (40 of 151 - 26%)\n",
            "200 - http://tigue.com/googles_public_data_viewer/ (41 of 152 - 27%)\n",
            "200 - http://tigue.com/missing_maps/ (42 of 153 - 27%)\n",
            "200 - http://tigue.com/rosling_on_stats/ (43 of 154 - 28%)\n",
            "404 - http://tigue.com/blog/2014/12/03/nytimes-the-pace-car/ (44 of 154 - 29%)\n",
            "200 - http://tigue.com/nyt_is_viz_pace_car/ (45 of 155 - 29%)\n",
            "200 - http://tigue.com/tweets_about_deadly_diseases/ (46 of 156 - 29%)\n",
            "200 - http://tigue.com/interactive_ebola_viz/ (47 of 157 - 30%)\n",
            "200 - http://tigue.com/ebola_visualizations/ (48 of 158 - 30%)\n",
            "200 - http://tigue.com/ebolamapper_initial_release/ (49 of 159 - 31%)\n",
            "200 - http://tigue.com/open_source_for_outbreaks/ (50 of 160 - 31%)\n",
            "200 - http://tigue.com/blogging_starts_again/ (51 of 161 - 32%)\n",
            "200 - http://tigue.com/round_icons/twitter.svg (52 of 161 - 32%)\n",
            "200 - http://tigue.com/round_icons/github.svg (53 of 161 - 33%)\n",
            "200 - http://tigue.com/round_icons/reconstrue_logo_brandmark.svg (54 of 161 - 34%)\n",
            "200 - http://tigue.com/round_icons/email.svg (55 of 161 - 34%)\n",
            "200 - http://tigue.com/round_icons/rss.svg (56 of 161 - 35%)\n",
            "200 - http://tigue.com/static/bec870d60e8e69daae9e571afa8025ee/5d675/header.png (57 of 161 - 35%)\n",
            "200 - http://tigue.com/static/46b841cff30353b436e809fa057b2a64/7e3f6/brightfield_cuboid_packager.jpg (58 of 161 - 36%)\n",
            "200 - http://tigue.com/static/9bab29f6d065c7cfb7ccb24177e3fff1/7e3f6/red_kneecap.jpg (59 of 161 - 37%)\n",
            "200 - http://tigue.com/static/a9dac730c427607d3411b575c0fc852b/7e3f6/git_and_jupyter_book.jpg (60 of 161 - 37%)\n",
            "200 - http://tigue.com/static/fec9124d192e5b2bce3e7431319b7006/29ab6/range_selector.png (61 of 161 - 38%)\n",
            "200 - http://tigue.com/static/f8cdafe3ad636719ec039f3a43ca74be/5d675/simple_wide.png (62 of 161 - 39%)\n",
            "200 - http://tigue.com/static/d6a84a5aeb8836fc30602127f3e10b52/5d675/monocle_cover_image.png (63 of 161 - 39%)\n",
            "200 - http://tigue.com/static/8d91791b2a05982020b8ad37fbd31889/b8ccf/omolumeter_v042.png (64 of 161 - 40%)\n",
            "200 - http://tigue.com/static/74daea767f1649c0aa7c00a9ef990c5f/b8ccf/omolumeter_v010.png (65 of 161 - 40%)\n",
            "200 - http://tigue.com/static/d785f1c02b4b4dd2c4dd49a060e53a4a/b8ccf/isp-monitor.png (66 of 161 - 41%)\n",
            "200 - http://tigue.com/static/609951dfea5705e4eeb75de462eb13cd/b8ccf/topojson-fail.png (67 of 161 - 42%)\n",
            "200 - http://tigue.com/static/a2b3b3f0c3590ce3cfef09930b5b2f3d/b8ccf/topojson-win.png (68 of 161 - 42%)\n",
            "200 - http://tigue.com/static/93866c1b6583be3dc8dcc872fbce0a80/b8ccf/3-seattles.png (69 of 161 - 43%)\n",
            "200 - http://tigue.com/static/7d6af4e4c52fd6ce4abc8bb88d830fdc/b8ccf/grid-of-some-twumbshots.png (70 of 161 - 43%)\n",
            "200 - http://tigue.com/static/83ab02d525c7d13c4934ca47a688438c/b8ccf/graves.png (71 of 161 - 44%)\n",
            "200 - http://tigue.com/static/53f37e5ed37a9b76a4aff38531810abf/b8ccf/africa-openness-by-okfn-org.png (72 of 161 - 45%)\n",
            "200 - http://tigue.com/static/516d3ea6a2b76535b603ff3804e8b255/b8ccf/nat-geo-calendar.png (73 of 161 - 45%)\n",
            "200 - http://tigue.com/static/b94fe40712e2bfb80baa5f8a2045ed92/b8ccf/hdx-dashboard.png (74 of 161 - 46%)\n",
            "200 - http://tigue.com/static/973d6b9f166c1f5ebadb1ba069c5b0e0/b8ccf/google-pub-data.png (75 of 161 - 47%)\n",
            "200 - http://tigue.com/static/a73e0eb0872cc63dc714761d9a9ae07f/b8ccf/economist-on-missingmaps.png (76 of 161 - 47%)\n",
            "200 - http://tigue.com/static/cb291d86d1811e5acb08555e2e3b7e8b/b8ccf/rosling.png (77 of 161 - 48%)\n",
            "200 - http://tigue.com/static/d71507a47df516168b60866000061542/b8ccf/nytimes.png (78 of 161 - 48%)\n",
            "200 - http://tigue.com/static/19b86942324e3710d8a0d3c1d94f78da/b8ccf/graphs-n-whaffles.png (79 of 161 - 49%)\n",
            "200 - http://tigue.com/static/710c5b5bf3c7709272bd8ad276439576/b8ccf/pbs-frontline.png (80 of 161 - 50%)\n",
            "200 - http://tigue.com/static/3b98181f0c9fbe4aa39f7f8b7a853fb0/b8ccf/healthmap-map.png (81 of 161 - 50%)\n",
            "200 - http://tigue.com/static/198ce947c7efaeb70ead19c96aff4120/b8ccf/economists-ebola-graphic.png (82 of 161 - 51%)\n",
            "200 - http://tigue.com/component---src-pages-index-js-61ab70a4060e6990873c.js (83 of 161 - 52%)\n",
            "200 - http://tigue.com/commons-f02f26b738c4bc393c02.js (84 of 161 - 52%)\n",
            "200 - http://tigue.com/styles-e2ade7a3eaf92ed5552a.js (85 of 161 - 53%)\n",
            "200 - http://tigue.com/app-8cd09859eb17c8c7850d.js (86 of 161 - 53%)\n",
            "200 - http://tigue.com/webpack-runtime-4507029ac28258832cb2.js (87 of 161 - 54%)\n",
            "200 - http://tigue.com/icons/icon-48x48.png?v=056847fbd7bbd511452aa6208980edcd (88 of 161 - 55%)\n",
            "200 - http://tigue.com/manifest.webmanifest (89 of 161 - 55%)\n",
            "200 - http://tigue.com/icons/icon-72x72.png?v=056847fbd7bbd511452aa6208980edcd (90 of 161 - 56%)\n",
            "200 - http://tigue.com/icons/icon-96x96.png?v=056847fbd7bbd511452aa6208980edcd (91 of 161 - 57%)\n",
            "200 - http://tigue.com/icons/icon-144x144.png?v=056847fbd7bbd511452aa6208980edcd (92 of 161 - 57%)\n",
            "200 - http://tigue.com/icons/icon-192x192.png?v=056847fbd7bbd511452aa6208980edcd (93 of 161 - 58%)\n",
            "200 - http://tigue.com/icons/icon-256x256.png?v=056847fbd7bbd511452aa6208980edcd (94 of 161 - 58%)\n",
            "200 - http://tigue.com/icons/icon-384x384.png?v=056847fbd7bbd511452aa6208980edcd (95 of 161 - 59%)\n",
            "200 - http://tigue.com/icons/icon-512x512.png?v=056847fbd7bbd511452aa6208980edcd (96 of 161 - 60%)\n",
            "200 - http://tigue.com/page-data/index/page-data.json (97 of 161 - 60%)\n",
            "200 - http://tigue.com/component---src-templates-blog-post-js-95d95d3430ca1ea2f9ad.js (98 of 161 - 61%)\n",
            "200 - http://tigue.com/page-data/whiteboarder_a_two_bit_photo_processor/page-data.json (99 of 161 - 61%)\n",
            "200 - http://tigue.com/page-data/eight_bit_gauges/page-data.json (100 of 161 - 62%)\n",
            "200 - http://tigue.com/page-data/jupyter_book_notes/page-data.json (101 of 161 - 63%)\n",
            "200 - http://tigue.com/page-data/jupyter_book_to_colab/page-data.json (102 of 161 - 63%)\n",
            "200 - http://tigue.com/page-data/monocle3_on_colab/page-data.json (103 of 161 - 64%)\n",
            "200 - http://tigue.com/page-data/allensdk_for_training_skeletonizers/page-data.json (104 of 161 - 65%)\n",
            "200 - http://tigue.com/page-data/colormapping/page-data.json (105 of 161 - 65%)\n",
            "200 - http://tigue.com/page-data/brightfield_challenge_data_manifest/page-data.json (106 of 161 - 66%)\n",
            "200 - http://tigue.com/page-data/brightfield_reconstruction_challenge/page-data.json (107 of 161 - 66%)\n",
            "200 - http://tigue.com/page-data/allensdk_on_colab/page-data.json (108 of 161 - 67%)\n",
            "200 - http://tigue.com/page-data/tsne_better_faster_cheaper/page-data.json (109 of 161 - 68%)\n",
            "200 - http://tigue.com/page-data/stefano_buliani_serverless_cheat_sheet/page-data.json (110 of 161 - 68%)\n",
            "200 - http://tigue.com/page-data/omolumeter_live/page-data.json (111 of 161 - 69%)\n",
            "200 - http://tigue.com/page-data/omolumeter_defined/page-data.json (112 of 161 - 70%)\n",
            "200 - http://tigue.com/by-time/ (113 of 178 - 63%)\n",
            "200 - http://tigue.com/atom.xml (114 of 178 - 64%)\n",
            "200 - http://tigue.com/by-time/2014/12/20/frontline-signifiers-of-success-in-the-ebola-response/ (115 of 179 - 64%)\n",
            "200 - http://tigue.com/by-time/2014/11/15/national-geographics-ebola-tracking/ (116 of 180 - 64%)\n",
            "200 - http://tigue.com/by-time/2014/11/15/hdxs-ebola-dashboard/ (117 of 181 - 65%)\n",
            "200 - http://tigue.com/by-time/2014/11/15/googles-public-data-viewer/ (118 of 182 - 65%)\n",
            "200 - http://tigue.com/images/rss.png (119 of 182 - 65%)\n",
            "200 - http://tigue.com/javascripts/libs/jquery/jquery-2.0.3.min.js (120 of 182 - 66%)\n",
            "200 - http://tigue.com/assets/bootstrap/dist/js/bootstrap.min.js (121 of 182 - 66%)\n",
            "200 - http://tigue.com/javascripts/modernizr-2.0.js (122 of 182 - 67%)\n",
            "200 - http://tigue.com/by-time/2014/12/28/ebola-open-data-analysis-completed/ (122 of 181 - 67%)\n",
            "200 - http://tigue.com/favicon.png (123 of 181 - 68%)\n",
            "200 - http://tigue.com/assets/bootstrap/dist/css/bootstrap.min.css (124 of 181 - 69%)\n",
            "200 - http://tigue.com/assets/bootstrap/dist/css/bootstrap-theme.min.css (125 of 181 - 69%)\n",
            "200 - http://tigue.com/stylesheets/screen.css (126 of 181 - 70%)\n",
            "200 - http://tigue.com/page-data/seattle_speed_testing/page-data.json (127 of 181 - 70%)\n",
            "200 - http://tigue.com/seattlespeeds/architecture.html (128 of 184 - 70%)\n",
            "200 - http://tigue.com/seattlespeeds/developer-guide.html (129 of 184 - 70%)\n",
            "200 - http://tigue.com/seattlespeeds/test-processes.html (130 of 184 - 71%)\n",
            "200 - http://tigue.com/seattlespeeds/deployment-guide.html (131 of 184 - 71%)\n",
            "200 - http://tigue.com/seattlespeeds/status-2015-05-18-01.html (132 of 184 - 72%)\n",
            "200 - http://tigue.com/seattlespeeds/seanetmap.png (133 of 184 - 72%)\n",
            "200 - http://tigue.com/seattlespeeds/org.css (134 of 184 - 73%)\n",
            "200 - http://tigue.com/page-data/generating_topojson/page-data.json (135 of 184 - 73%)\n",
            "200 - http://tigue.com/by-tag/seattle/ (136 of 185 - 74%)\n",
            "404 - http://tigue.com/by-time/2015/12/04/report-to-africa-open-data/ (137 of 185 - 74%)\n",
            "200 - http://tigue.com/by-time/2015/12/09/seattle-boundaries/ (137 of 184 - 74%)\n",
            "200 - http://tigue.com/page-data/seattle_boundaries/page-data.json (138 of 184 - 75%)\n",
            "200 - http://tigue.com/page-data/ebola_data_analysis_completed/page-data.json (139 of 184 - 76%)\n",
            "404 - http://tigue.com/ebola_progress_metrics/thub.com/JohnTigue/EbolaMapper (140 of 184 - 76%)\n",
            "200 - http://tigue.com/page-data/ebola_progress_metrics/page-data.json (141 of 184 - 77%)\n",
            "200 - http://tigue.com/page-data/la_grippe/page-data.json (142 of 184 - 77%)\n",
            "200 - http://tigue.com/page-data/report_to_africa_open_data/page-data.json (143 of 184 - 78%)\n",
            "200 - http://tigue.com/page-data/nat_geo_ebola_tracking/page-data.json (144 of 184 - 78%)\n",
            "200 - http://tigue.com/page-data/hdxs_ebola_dashboard/page-data.json (145 of 184 - 79%)\n",
            "200 - http://tigue.com/by-time/2014/11/13/tweets-about-deadly-diseases/ (146 of 185 - 79%)\n",
            "200 - http://tigue.com/by-time/2014/11/13/rosling-on-which-stats-matter/ (147 of 186 - 79%)\n",
            "200 - http://tigue.com/by-time/2014/11/13/missingmaps-dot-org-and-the-long-term-solution/ (148 of 187 - 79%)\n",
            "200 - http://tigue.com/by-time/2014/11/13/nytimes-the-pace-car/ (148 of 186 - 80%)\n",
            "200 - http://tigue.com/page-data/googles_public_data_viewer/page-data.json (149 of 186 - 80%)\n",
            "200 - http://tigue.com/page-data/missing_maps/page-data.json (150 of 186 - 81%)\n",
            "200 - http://tigue.com/page-data/rosling_on_stats/page-data.json (151 of 186 - 81%)\n",
            "200 - http://tigue.com/page-data/nyt_is_viz_pace_car/page-data.json (152 of 186 - 82%)\n",
            "200 - http://tigue.com/page-data/tweets_about_deadly_diseases/page-data.json (153 of 186 - 82%)\n",
            "200 - http://tigue.com/page-data/interactive_ebola_viz/page-data.json (154 of 186 - 83%)\n",
            "200 - http://tigue.com/page-data/ebola_visualizations/page-data.json (155 of 186 - 83%)\n",
            "200 - http://tigue.com/page-data/ebolamapper_initial_release/page-data.json (156 of 186 - 84%)\n",
            "200 - http://tigue.com/page-data/open_source_for_outbreaks/page-data.json (157 of 186 - 84%)\n",
            "200 - http://tigue.com/page-data/blogging_starts_again/page-data.json (158 of 186 - 85%)\n",
            "200 - http://tigue.com/by-time/2017/06/09/stefano-buliani-serverless-cheat-sheet/ (159 of 187 - 85%)\n",
            "200 - http://tigue.com/by-time/2016/05/05/omolumeter-com-live/ (160 of 188 - 85%)\n",
            "200 - http://tigue.com/by-tag/omolumeter/ (161 of 189 - 85%)\n",
            "200 - http://tigue.com/by-time/2016/04/08/omolumeter-defined/ (162 of 190 - 85%)\n",
            "200 - http://tigue.com/by-time/2016/02/18/seattle-speed-test/ (163 of 191 - 85%)\n",
            "200 - http://tigue.com/by-time/2015/12/14/generating-topojson-debug/ (164 of 192 - 85%)\n",
            "404 - http://tigue.com/by-tag/topojson/ (165 of 192 - 86%)\n",
            "200 - http://tigue.com/by-time/2014/12/04/report-to-africa-open-data/ (166 of 193 - 86%)\n",
            "200 - http://tigue.com/by-tag/ebola/ (167 of 194 - 86%)\n",
            "200 - http://tigue.com/by-time/2014/11/11/interactive-ebola-visualizations/ (168 of 195 - 86%)\n",
            "200 - http://tigue.com/by-time/2014/11/11/gallery-of-ebola-visualizations/ (169 of 196 - 86%)\n",
            "200 - http://tigue.com/by-tag/ebolaviz/ (170 of 197 - 86%)\n",
            "200 - http://tigue.com/by-time/2014/11/10/first-success-indicator-a-working-ebolamapper/ (171 of 198 - 86%)\n",
            "200 - http://tigue.com/by-tag/ebolamapper/ (172 of 199 - 86%)\n",
            "200 - http://tigue.com/by-time/2014/11/10/tao-of-open-source-applied-to-outbreaks/ (173 of 200 - 86%)\n",
            "200 - http://tigue.com/by-time/2014/11/10/val-blogging-equals-true/ (174 of 201 - 87%)\n",
            "200 - http://tigue.com/by-time/ (174 of 200 - 87%)\n",
            "200 - http://tigue.com/by-time/2014/12/20/frontline-signifiers-of-success-in-the-ebola-response/ (174 of 199 - 87%)\n",
            "200 - http://tigue.com/by-time/2014/11/15/national-geographics-ebola-tracking/ (174 of 198 - 88%)\n",
            "200 - http://tigue.com/by-time/2014/11/15/hdxs-ebola-dashboard/ (174 of 197 - 88%)\n",
            "200 - http://tigue.com/by-time/2014/11/15/googles-public-data-viewer/ (174 of 196 - 89%)\n",
            "200 - http://tigue.com/seattlespeeds/index.html (175 of 196 - 89%)\n",
            "200 - http://tigue.com/seattlespeeds/over-the-net.jpg (176 of 196 - 90%)\n",
            "200 - http://tigue.com/seattlespeeds/backend-1.jpg (177 of 196 - 90%)\n",
            "200 - http://tigue.com/by-tag/seattle/ (177 of 195 - 91%)\n",
            "200 - http://tigue.com/by-time/2014/11/13/tweets-about-deadly-diseases/ (177 of 194 - 91%)\n",
            "200 - http://tigue.com/by-time/2014/11/13/rosling-on-which-stats-matter/ (177 of 193 - 92%)\n",
            "200 - http://tigue.com/by-time/2014/11/13/missingmaps-dot-org-and-the-long-term-solution/ (177 of 192 - 92%)\n",
            "200 - http://tigue.com/by-time/2017/06/09/stefano-buliani-serverless-cheat-sheet/ (177 of 191 - 93%)\n",
            "200 - http://tigue.com/by-time/2016/05/05/omolumeter-com-live/ (177 of 190 - 93%)\n",
            "200 - http://tigue.com/by-tag/omolumeter/ (177 of 189 - 94%)\n",
            "200 - http://tigue.com/by-time/2016/04/08/omolumeter-defined/ (177 of 188 - 94%)\n",
            "200 - http://tigue.com/by-time/2016/02/18/seattle-speed-test/ (177 of 187 - 95%)\n",
            "200 - http://tigue.com/by-time/2015/12/14/generating-topojson-debug/ (177 of 186 - 95%)\n",
            "200 - http://tigue.com/by-time/2014/12/04/report-to-africa-open-data/ (177 of 185 - 96%)\n",
            "200 - http://tigue.com/by-tag/ebola/ (177 of 184 - 96%)\n",
            "200 - http://tigue.com/by-time/2014/11/11/interactive-ebola-visualizations/ (177 of 183 - 97%)\n",
            "200 - http://tigue.com/by-time/2014/11/11/gallery-of-ebola-visualizations/ (177 of 182 - 97%)\n",
            "200 - http://tigue.com/by-tag/ebolaviz/ (177 of 181 - 98%)\n",
            "200 - http://tigue.com/by-time/2014/11/10/first-success-indicator-a-working-ebolamapper/ (177 of 180 - 98%)\n",
            "200 - http://tigue.com/by-tag/ebolamapper/ (177 of 179 - 99%)\n",
            "200 - http://tigue.com/by-time/2014/11/10/tao-of-open-source-applied-to-outbreaks/ (177 of 178 - 99%)\n",
            "200 - http://tigue.com/by-time/2014/11/10/val-blogging-equals-true/ (177 of 177 - 100%)\n",
            "Crawling Done...\n",
            "\n",
            "ERROR Crawled 177 urls with 5 error(s) in 29.43 seconds\n",
            "\n",
            "  Start URL(s): http://tigue.com\n",
            "\n",
            "  not found (404): http://tigue.com/thub.com/JohnTigue/EbolaMapper\n",
            "    from http://tigue.com\n",
            "    from http://tigue.com/\n",
            "\n",
            "  not found (404): http://tigue.com/blog/2014/12/03/nytimes-the-pace-car/\n",
            "    from http://tigue.com\n",
            "    from http://tigue.com/\n",
            "    from http://tigue.com/rosling_on_stats/\n",
            "    from http://tigue.com/by-time/2014/11/13/rosling-on-which-stats-matter/\n",
            "    from http://tigue.com/by-time/2014/11/13/rosling-on-which-stats-matter/\n",
            "\n",
            "  not found (404): http://tigue.com/by-time/2015/12/04/report-to-africa-open-data/\n",
            "    from http://tigue.com/by-time/2015/12/09/seattle-boundaries/\n",
            "    from http://tigue.com/by-time/2015/12/09/seattle-boundaries/\n",
            "    from http://tigue.com/by-tag/seattle/\n",
            "    from http://tigue.com/by-time/2015/12/09/seattle-boundaries/\n",
            "    from http://tigue.com/by-time/2015/12/09/seattle-boundaries/\n",
            "    from http://tigue.com/by-tag/ebola/\n",
            "    from http://tigue.com/by-tag/ebola/\n",
            "    from http://tigue.com/by-tag/ebolaviz/\n",
            "    from http://tigue.com/by-tag/ebolamapper/\n",
            "    from http://tigue.com/by-tag/seattle/\n",
            "    from http://tigue.com/by-tag/ebola/\n",
            "    from http://tigue.com/by-tag/ebola/\n",
            "    from http://tigue.com/by-tag/ebolaviz/\n",
            "    from http://tigue.com/by-tag/ebolamapper/\n",
            "\n",
            "  not found (404): http://tigue.com/ebola_progress_metrics/thub.com/JohnTigue/EbolaMapper\n",
            "    from http://tigue.com/ebola_progress_metrics/\n",
            "\n",
            "  not found (404): http://tigue.com/by-tag/topojson/\n",
            "    from http://tigue.com/by-time/\n",
            "    from http://tigue.com/by-time/2015/12/14/generating-topojson-debug/\n",
            "    from http://tigue.com/by-time/\n",
            "    from http://tigue.com/by-time/2015/12/14/generating-topojson-debug/\n"
          ],
          "name": "stdout"
        },
        {
          "output_type": "error",
          "ename": "SystemExit",
          "evalue": "ignored",
          "traceback": [
            "An exception has occurred, use %tb to see the full traceback.\n",
            "\u001b[0;31mSystemExit\u001b[0m\u001b[0;31m:\u001b[0m 1\n"
          ]
        },
        {
          "output_type": "stream",
          "text": [
            "CPU times: user 2.07 s, sys: 120 ms, total: 2.19 s\n",
            "Wall time: 29.4 s\n"
          ],
          "name": "stdout"
        }
      ]
    },
    {
      "cell_type": "markdown",
      "metadata": {
        "id": "MmSowXDdkqEr",
        "colab_type": "text"
      },
      "source": [
        "## Run via API"
      ]
    },
    {
      "cell_type": "code",
      "metadata": {
        "id": "k2a7Osxsc5FR",
        "colab_type": "code",
        "colab": {
          "base_uri": "https://localhost:8080/",
          "height": 50
        },
        "outputId": "dd4504a8-3328-4c05-b464-c3e0c9ef7b57"
      },
      "source": [
        "%%time\n",
        "\n",
        "from pylinkvalidator.api import crawl\n",
        "crawled_site = crawl(\"http://tigue.com/\")\n"
      ],
      "execution_count": 24,
      "outputs": [
        {
          "output_type": "stream",
          "text": [
            "CPU times: user 1.57 s, sys: 95.9 ms, total: 1.67 s\n",
            "Wall time: 28.6 s\n"
          ],
          "name": "stdout"
        }
      ]
    },
    {
      "cell_type": "code",
      "metadata": {
        "id": "GK7aS7PNdkTl",
        "colab_type": "code",
        "colab": {
          "base_uri": "https://localhost:8080/",
          "height": 171
        },
        "outputId": "0c5a1c0c-9326-493a-fc5c-7a68195faca2"
      },
      "source": [
        "number_of_crawled_pages = len(crawled_site.pages)\n",
        "print(f'number_of_crawled_pages = {number_of_crawled_pages}')\n",
        "\n",
        "number_of_errors = len(crawled_site.error_pages)\n",
        "print(f'number_of_errors = {number_of_errors}\\n')\n",
        "\n",
        "for page in crawled_site.error_pages:\n",
        "  print(page)"
      ],
      "execution_count": 37,
      "outputs": [
        {
          "output_type": "stream",
          "text": [
            "number_of_crawled_pages = 176\n",
            "number_of_errors = 5\n",
            "\n",
            "SplitResult(scheme='http', netloc='tigue.com', path='/thub.com/JohnTigue/EbolaMapper', query='', fragment='')\n",
            "SplitResult(scheme='http', netloc='tigue.com', path='/blog/2014/12/03/nytimes-the-pace-car/', query='', fragment='')\n",
            "SplitResult(scheme='http', netloc='tigue.com', path='/by-time/2015/12/04/report-to-africa-open-data/', query='', fragment='')\n",
            "SplitResult(scheme='http', netloc='tigue.com', path='/ebola_progress_metrics/thub.com/JohnTigue/EbolaMapper', query='', fragment='')\n",
            "SplitResult(scheme='http', netloc='tigue.com', path='/by-tag/topojson/', query='', fragment='')\n"
          ],
          "name": "stdout"
        }
      ]
    },
    {
      "cell_type": "markdown",
      "metadata": {
        "id": "EVCE-D_pTWcf",
        "colab_type": "text"
      },
      "source": [
        "# Tool search log\n",
        "## 1: LinkChecker\n",
        "- https://pypi.org/project/LinkChecker/\n",
        "  > Python 2.7.2 or later is needed. It doesn’t work with Python 3 yet, see #40 for details.\n",
        "\n",
        "## 2: pylinkvalidator\n",
        "- 2020-06-19: tires kicked\n",
        "\n",
        "## N: Not tried yet\n",
        "- Scrapy\n",
        "  - [Broken links checker… Scrapy webcrawler](https://dev.to/pjcalvo/broken-links-checker-with-python-and-scrapy-webcrawler-1gom)"
      ]
    }
  ]
}